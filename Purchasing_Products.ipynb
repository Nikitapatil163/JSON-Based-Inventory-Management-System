{
  "nbformat": 4,
  "nbformat_minor": 0,
  "metadata": {
    "colab": {
      "name": "Purchasing Products.ipynb",
      "provenance": [],
      "collapsed_sections": []
    },
    "kernelspec": {
      "name": "python3",
      "display_name": "Python 3"
    },
    "language_info": {
      "name": "python"
    }
  },
  "cells": [
    {
      "cell_type": "markdown",
      "metadata": {
        "id": "4luDf2CKxBIn"
      },
      "source": [
        "# Read Inventory"
      ]
    },
    {
      "cell_type": "code",
      "metadata": {
        "id": "6twKX5v2Gvxr"
      },
      "source": [
        "import json\n",
        "\n",
        "fd = open(\"record.json\", \"r\")\n",
        "r = fd.read()\n",
        "fd.close()\n",
        "\n",
        "records = json.loads(r)"
      ],
      "execution_count": 4,
      "outputs": []
    },
    {
      "cell_type": "code",
      "metadata": {
        "id": "bGF04aLABv3-"
      },
      "source": [
        "records"
      ],
      "execution_count": null,
      "outputs": []
    },
    {
      "cell_type": "markdown",
      "metadata": {
        "id": "A1l1ZP78xSA6"
      },
      "source": [
        "# Purchase"
      ]
    },
    {
      "cell_type": "code",
      "metadata": {
        "id": "1200NmeRDcK4",
        "colab": {
          "base_uri": "https://localhost:8080/"
        },
        "outputId": "a645545f-1936-4788-baf6-ab638222790e"
      },
      "source": [
        "ui_prod = str(input(\"Enter the product_Id: \"))\n",
        "ui_quant = int(input(\"Enter the quantity: \"))\n",
        "\n",
        "print(\"Product: \", records[ui_prod]['name'])\n",
        "print(\"Price: \", records[ui_prod]['pr'])\n",
        "print(\"Billing Amount: \", records[ui_prod]['pr'] * ui_quant)\n",
        "\n",
        "records[ui_prod]['qn'] = records[ui_prod]['qn'] - ui_quant"
      ],
      "execution_count": 17,
      "outputs": [
        {
          "output_type": "stream",
          "name": "stdout",
          "text": [
            "Enter the product_Id: 1003\n",
            "Enter the quantity: 2\n",
            "Product:  Brownie Mix\n",
            "Price:  85\n",
            "Billing Amount:  170\n"
          ]
        }
      ]
    },
    {
      "cell_type": "markdown",
      "metadata": {
        "id": "38xpHxFgxaiG"
      },
      "source": [
        "# Update Inventory After Purchase"
      ]
    },
    {
      "cell_type": "code",
      "metadata": {
        "id": "phBHYPfj2HIe"
      },
      "source": [
        "js = json.dumps(records)\n",
        "\n",
        "fd = open(\"record.json\", 'w')\n",
        "fd.write(js)\n",
        "fd.close()"
      ],
      "execution_count": 18,
      "outputs": []
    },
    {
      "cell_type": "code",
      "metadata": {
        "id": "0EdACd4l46bP"
      },
      "source": [
        "js"
      ],
      "execution_count": null,
      "outputs": []
    },
    {
      "cell_type": "markdown",
      "metadata": {
        "id": "PDppYqmCxjJv"
      },
      "source": [
        "# Sales Json"
      ]
    },
    {
      "cell_type": "code",
      "metadata": {
        "id": "tZH-zoj8D-97",
        "colab": {
          "base_uri": "https://localhost:8080/"
        },
        "outputId": "da991e64-c69c-4ed4-b25f-a344bf7b83a5"
      },
      "source": [
        "{'prod' : ui_prod, 'qn' : ui_quant, 'amount' : records[ui_prod]['pr'] * ui_quant}"
      ],
      "execution_count": 19,
      "outputs": [
        {
          "output_type": "execute_result",
          "data": {
            "text/plain": [
              "{'amount': 170, 'prod': '1003', 'qn': 2}"
            ]
          },
          "metadata": {},
          "execution_count": 19
        }
      ]
    },
    {
      "cell_type": "code",
      "metadata": {
        "id": "V_bnUQMfEkR4"
      },
      "source": [
        "sales = {1 : {'prod' : ui_prod, 'qn' : ui_quant, 'amount' : records[ui_prod]['pr'] * ui_quant}, \n",
        "         2 : {'prod' : ui_prod, 'qn' : ui_quant, 'amount' : records[ui_prod]['pr'] * ui_quant},\n",
        "         3 : {'prod' : ui_prod, 'qn' : ui_quant, 'amount' : records[ui_prod]['pr'] * ui_quant}}"
      ],
      "execution_count": 20,
      "outputs": []
    },
    {
      "cell_type": "code",
      "metadata": {
        "id": "zOQThpTtFOUs"
      },
      "source": [
        "sale = json.dumps(sales)"
      ],
      "execution_count": 21,
      "outputs": []
    },
    {
      "cell_type": "code",
      "metadata": {
        "id": "uKZ9LhD63I19"
      },
      "source": [
        "fd = open(\"sales.json\", 'w')\n",
        "r = fd.write(sale)\n",
        "fd.close()"
      ],
      "execution_count": 22,
      "outputs": []
    },
    {
      "cell_type": "code",
      "metadata": {
        "colab": {
          "base_uri": "https://localhost:8080/",
          "height": 52
        },
        "id": "LMUBwaoq3peF",
        "outputId": "d54062c4-7325-4d9a-c893-4fb49aa2ebde"
      },
      "source": [
        "sale"
      ],
      "execution_count": 23,
      "outputs": [
        {
          "output_type": "execute_result",
          "data": {
            "application/vnd.google.colaboratory.intrinsic+json": {
              "type": "string"
            },
            "text/plain": [
              "'{\"1\": {\"prod\": \"1003\", \"qn\": 2, \"amount\": 170}, \"2\": {\"prod\": \"1003\", \"qn\": 2, \"amount\": 170}, \"3\": {\"prod\": \"1003\", \"qn\": 2, \"amount\": 170}}'"
            ]
          },
          "metadata": {},
          "execution_count": 23
        }
      ]
    }
  ]
}