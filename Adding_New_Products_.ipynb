{
  "nbformat": 4,
  "nbformat_minor": 0,
  "metadata": {
    "colab": {
      "name": "Adding New Products .ipynb",
      "provenance": [],
      "collapsed_sections": []
    },
    "kernelspec": {
      "name": "python3",
      "display_name": "Python 3"
    },
    "language_info": {
      "name": "python"
    }
  },
  "cells": [
    {
      "cell_type": "markdown",
      "metadata": {
        "id": "eFkxI5HjzG8a"
      },
      "source": [
        "# Read Data From Json"
      ]
    },
    {
      "cell_type": "code",
      "metadata": {
        "id": "GQOLsXzQ59Nq"
      },
      "source": [
        "record = {\"1001\": {\"name\": \"Chocolate Chips\", \"Category\": \"Dry/Canned Goods\", \"Unit\": \"Oz\", \"pr\": 200, \"qn\": 100}, \n",
        "          \"1002\": {\"name\": \"Bread\", \"Category\": \"Dry/Canned Goods\", \"Unit\": \"Slices\", \"pr\": 100, \"qn\": 100}, \n",
        "          \"1003\": {\"name\": \"Brownie Mix\", \"Category\": \"Dry/Canned Goods\", \"Unit\": \"box\", \"pr\": 85, \"qn\": 100}, \n",
        "          \"1004\": {\"name\": \"Candy\", \"Category\": \"Dry/Canned Goods\", \"Unit\": \"box\", \"pr\": 200, \"qn\": 100}, \n",
        "          \"1005\": {\"name\": \"Canned Vegetables\", \"Category\": \"Dry/Canned Goods\", \"Unit\": \"Oz\", \"pr\": 125, \"qn\": 50}, \n",
        "          \"1006\": {\"name\": \"Cereal\", \"Category\": \"Dry/Canned Goods\", \"Unit\": \"Oz\", \"pr\": 100, \"qn\": 60},  \n",
        "          \"1007\": {\"name\": \"Chips\", \"Category\": \"Dry/Canned Goods\", \"Unit\": \"Oz\", \"pr\": 20, \"qn\": 150}, \n",
        "          \"1008\": {\"name\": \"Crackers\", \"Category\": \"Dry/Canned Goods\", \"Unit\": \"box\", \"pr\": 100, \"qn\": 25}, \n",
        "          \"1009\": {\"name\": \"Flour\", \"Category\": \"Dry/Canned Goods\", \"Unit\": \"kg\", \"pr\": 250, \"qn\": 20}, \n",
        "          \"1010\": {\"name\": \"Fruit Snacks\", \"Category\": \"Dry/Canned Goods\", \"Unit\": \"ct\", \"pr\": 150, \"qn\":20}, \n",
        "          \"1011\": {\"name\": \"Pasta\", \"Category\": \"Dry/Canned Goods\", \"Unit\": \"Oz\", \"pr\": 50, \"qn\": 50}, \n",
        "          \"1012\": {\"name\": \"Jam\", \"Category\": \"Dry/Canned Goods\", \"Unit\": \"Oz\", \"pr\": 500, \"qn\": 15}, \n",
        "          \"1013\": {\"name\": \"Ketchup\", \"Category\": \"Dry/Canned Goods\", \"Unit\": \"Oz\", \"pr\": 455, \"qn\": 20}, \n",
        "          \"1014\": {\"name\": \"Mayo\", \"Category\": \"Dry/Canned Goods\", \"Unit\": \"Oz\", \"pr\": 250, \"qn\": 50}, \n",
        "          \"1015\": {\"name\": \"Pistachio\", \"Category\": \"Dry/Canned Goods\", \"Unit\": \"Oz\", \"pr\": 350, \"qn\":25}, \n",
        "          \"1016\": {\"name\": \"Mushroom\", \"Category\": \"Dry/Canned Goods\", \"Unit\": \"Oz\", \"pr\": 555, \"qn\": 20}, \n",
        "          \"1017\": {\"name\": \"Yellow Mustard\", \"Category\": \"Dry/Canned Goods\", \"Unit\": \"Oz\", \"pr\": 2000, \"qn\": 10}, \n",
        "          \"1018\": {\"name\": \"Oats\",\"Category\": \"Dry/Canned Goods\", \"Unit\": \"Oz\", \"pr\": 150, \"qn\": 25}, \n",
        "          \"1019\": {\"name\": \"Oil(vegetable)\",\"Category\": \"Dry/Canned Goods\", \"Unit\": \"litre\", \"pr\": 250, \"qn\": 30}, \n",
        "          \"1020\": {\"name\": \"Olive oil\", \"Category\": \"Dry/Canned Goods\", \"Unit\": \"litre\", \"pr\": 600, \"qn\": 10}, \n",
        "          \"1021\": {\"name\": \"Peanut Butter\", \"Category\": \"Dry/Canned Goods\", \"Unit\": \"Oz\", \"pr\": 225, \"qn\": 20}, \n",
        "          \"1022\": {\"name\": \"Soda(can)\",\"Category\": \"Dry/Canned Goods\", \"Unit\": \"Oz\", \"pr\": 50, \"qn\": 10}, \n",
        "          \"1023\": {\"name\": \"Soda(bottle)\", \"Category\": \"Dry/Canned Goods\", \"Unit\": \"litre\", \"pr\": 100, \"qn\": 20}, \n",
        "          \"1024\": {\"name\": \"Laundry Detergent\", \"Category\": \"Cleaning\", \"Unit\": \"loads\", \"pr\": 350, \"qn\": 10}, \n",
        "          \"1025\": {\"name\": \"Floor Cleaner\", \"Category\": \"Cleaning\", \"Unit\": \"loads\", \"pr\": 250, \"qn\": 12}, \n",
        "          \"1026\": {\"name\": \"Paper Towels\", \"Category\": \"Cleaning\", \"Unit\": \"rolls\", \"pr\": 30, \"qn\": 55}, \n",
        "          \"1027\": {\"name\": \"Toilet Paper\", \"Category\": \"Cleaning\", \"Unit\": \"rolls\", \"pr\": 25, \"qn\": 50}, \n",
        "          \"1028\": {\"name\": \"Kitchen Trash Bags\", \"Category\": \"Cleaning\", \"Unit\": \"bags\", \"pr\": 298, \"qn\": 30}, \n",
        "          \"1029\": {\"name\": \"Wipes\", \"Category\": \"Cleaning\", \"Unit\": \"pack\", \"pr\": 100, \"qn\": 40}, \n",
        "          \"1030\": {\"name\": \"Dishwash Liquid Gel\", \"Category\": \"Cleaning\", \"Unit\": \"litre\", \"pr\": 250, \"qn\": 125}}"
      ],
      "execution_count": null,
      "outputs": []
    },
    {
      "cell_type": "code",
      "metadata": {
        "id": "aX9-GsY392WY"
      },
      "source": [
        "import json"
      ],
      "execution_count": null,
      "outputs": []
    },
    {
      "cell_type": "code",
      "metadata": {
        "id": "GFckLHS994SZ"
      },
      "source": [
        "js = json.dumps(record)"
      ],
      "execution_count": null,
      "outputs": []
    },
    {
      "cell_type": "code",
      "metadata": {
        "id": "LQKALSFZ99fW",
        "colab": {
          "base_uri": "https://localhost:8080/",
          "height": 137
        },
        "outputId": "cb9e0b6d-a41a-46fe-9b3b-e43a95df0bba"
      },
      "source": [
        "js"
      ],
      "execution_count": null,
      "outputs": [
        {
          "output_type": "execute_result",
          "data": {
            "application/vnd.google.colaboratory.intrinsic+json": {
              "type": "string"
            },
            "text/plain": [
              "'{\"1001\": {\"name\": \"Chocolate Chips\", \"Category\": \"Dry/Canned Goods\", \"Unit\": \"Oz\", \"pr\": 200, \"qn\": 100}, \"1002\": {\"name\": \"Bread\", \"Category\": \"Dry/Canned Goods\", \"Unit\": \"Slices\", \"pr\": 100, \"qn\": 100}, \"1003\": {\"name\": \"Brownie Mix\", \"Category\": \"Dry/Canned Goods\", \"Unit\": \"box\", \"pr\": 85, \"qn\": 100}, \"1004\": {\"name\": \"Candy\", \"Category\": \"Dry/Canned Goods\", \"Unit\": \"box\", \"pr\": 200, \"qn\": 100}, \"1005\": {\"name\": \"Canned Vegetables\", \"Category\": \"Dry/Canned Goods\", \"Unit\": \"Oz\", \"pr\": 125, \"qn\": 50}, \"1006\": {\"name\": \"Cereal\", \"Category\": \"Dry/Canned Goods\", \"Unit\": \"Oz\", \"pr\": 100, \"qn\": 60}, \"1007\": {\"name\": \"Chips\", \"Category\": \"Dry/Canned Goods\", \"Unit\": \"Oz\", \"pr\": 20, \"qn\": 150}, \"1008\": {\"name\": \"Crackers\", \"Category\": \"Dry/Canned Goods\", \"Unit\": \"box\", \"pr\": 100, \"qn\": 25}, \"1009\": {\"name\": \"Flour\", \"Category\": \"Dry/Canned Goods\", \"Unit\": \"kg\", \"pr\": 250, \"qn\": 20}, \"1010\": {\"name\": \"Fruit Snacks\", \"Category\": \"Dry/Canned Goods\", \"Unit\": \"ct\", \"pr\": 150, \"qn\": 20}, \"1011\": {\"name\": \"Pasta\", \"Category\": \"Dry/Canned Goods\", \"Unit\": \"Oz\", \"pr\": 50, \"qn\": 50}, \"1012\": {\"name\": \"Jam\", \"Category\": \"Dry/Canned Goods\", \"Unit\": \"Oz\", \"pr\": 500, \"qn\": 15}, \"1013\": {\"name\": \"Ketchup\", \"Category\": \"Dry/Canned Goods\", \"Unit\": \"Oz\", \"pr\": 455, \"qn\": 20}, \"1014\": {\"name\": \"Mayo\", \"Category\": \"Dry/Canned Goods\", \"Unit\": \"Oz\", \"pr\": 250, \"qn\": 50}, \"1015\": {\"name\": \"Pistachio\", \"Category\": \"Dry/Canned Goods\", \"Unit\": \"Oz\", \"pr\": 350, \"qn\": 25}, \"1016\": {\"name\": \"Mushroom\", \"Category\": \"Dry/Canned Goods\", \"Unit\": \"Oz\", \"pr\": 555, \"qn\": 20}, \"1017\": {\"name\": \"Yellow Mustard\", \"Category\": \"Dry/Canned Goods\", \"Unit\": \"Oz\", \"pr\": 2000, \"qn\": 10}, \"1018\": {\"name\": \"Oats\", \"Category\": \"Dry/Canned Goods\", \"Unit\": \"Oz\", \"pr\": 150, \"qn\": 25}, \"1019\": {\"name\": \"Oil(vegetable)\", \"Category\": \"Dry/Canned Goods\", \"Unit\": \"litre\", \"pr\": 250, \"qn\": 30}, \"1020\": {\"name\": \"Olive oil\", \"Category\": \"Dry/Canned Goods\", \"Unit\": \"litre\", \"pr\": 600, \"qn\": 10}, \"1021\": {\"name\": \"Peanut Butter\", \"Category\": \"Dry/Canned Goods\", \"Unit\": \"Oz\", \"pr\": 225, \"qn\": 20}, \"1022\": {\"name\": \"Soda(can)\", \"Category\": \"Dry/Canned Goods\", \"Unit\": \"Oz\", \"pr\": 50, \"qn\": 10}, \"1023\": {\"name\": \"Soda(bottle)\", \"Category\": \"Dry/Canned Goods\", \"Unit\": \"litre\", \"pr\": 100, \"qn\": 20}, \"1024\": {\"name\": \"Laundry Detergent\", \"Category\": \"Cleaning\", \"Unit\": \"loads\", \"pr\": 350, \"qn\": 10}, \"1025\": {\"name\": \"Floor Cleaner\", \"Category\": \"Cleaning\", \"Unit\": \"loads\", \"pr\": 250, \"qn\": 12}, \"1026\": {\"name\": \"Paper Towels\", \"Category\": \"Cleaning\", \"Unit\": \"rolls\", \"pr\": 30, \"qn\": 55}, \"1027\": {\"name\": \"Toilet Paper\", \"Category\": \"Cleaning\", \"Unit\": \"rolls\", \"pr\": 25, \"qn\": 50}, \"1028\": {\"name\": \"Kitchen Trash Bags\", \"Category\": \"Cleaning\", \"Unit\": \"bags\", \"pr\": 298, \"qn\": 30}, \"1029\": {\"name\": \"Wipes\", \"Category\": \"Cleaning\", \"Unit\": \"pack\", \"pr\": 100, \"qn\": 40}, \"1030\": {\"name\": \"Dishwash Liquid Gel\", \"Category\": \"Cleaning\", \"Unit\": \"litre\", \"pr\": 250, \"qn\": 125}}'"
            ]
          },
          "metadata": {},
          "execution_count": 5
        }
      ]
    },
    {
      "cell_type": "code",
      "metadata": {
        "id": "cyKLZe9j-NaO"
      },
      "source": [
        "record"
      ],
      "execution_count": null,
      "outputs": []
    },
    {
      "cell_type": "code",
      "metadata": {
        "id": "zaA8k2oD-PnJ"
      },
      "source": [
        "fd = open(\"record.json\", \"w\")\n",
        "fd.write(js)\n",
        "fd.close()"
      ],
      "execution_count": null,
      "outputs": []
    },
    {
      "cell_type": "code",
      "metadata": {
        "id": "Vhf2z9Hl-xt5"
      },
      "source": [
        "fd = open(\"record.json\", 'r')\n",
        "txt = fd.read()\n",
        "fd.close()"
      ],
      "execution_count": null,
      "outputs": []
    },
    {
      "cell_type": "markdown",
      "metadata": {
        "id": "NBeaT9cezOGH"
      },
      "source": [
        "# Add New Item into Inventory"
      ]
    },
    {
      "cell_type": "code",
      "metadata": {
        "id": "CgwOOYEL-54n"
      },
      "source": [
        "prod_id = str(input(\"Enter product id:\"))\n",
        "name = str(input(\"Enter product name:\"))\n",
        "category = str(input(\"Enter product category:\"))\n",
        "unit = str(input(\"Enter product unit:\"))\n",
        "pr = int(input(\"Enter product price:\"))\n",
        "qt = int(input(\"Enter product quantity:\"))\n",
        "\n",
        "record[prod_id] = {'name': name, 'category': category, 'unit': unit, 'pr': pr, 'qt': qt}\n",
        "\n",
        "js = json.dumps(record)\n",
        "\n",
        "fd = open(\"record.json\", 'w')\n",
        "fd.write(js)\n",
        "fd.close()"
      ],
      "execution_count": null,
      "outputs": []
    },
    {
      "cell_type": "code",
      "metadata": {
        "id": "SPXQaFeJBawa"
      },
      "source": [
        "record"
      ],
      "execution_count": null,
      "outputs": []
    }
  ]
}